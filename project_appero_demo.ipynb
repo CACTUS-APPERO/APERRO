{
 "cells": [
  {
   "cell_type": "markdown",
   "metadata": {},
   "source": [
    "# AP(P)3RO PROJECT (model de démo) #\n",
    "\n",
    "\n",
    "#### M. Le Gras, A. Naullet, A. Calixte, P. Beaunieux ####"
   ]
  },
  {
   "cell_type": "markdown",
   "metadata": {},
   "source": [
    "## Partie 1: Cartographie de la ville par le drone ##"
   ]
  },
  {
   "cell_type": "markdown",
   "metadata": {},
   "source": [
    "On simule une ville avec un petit graphe"
   ]
  },
  {
   "cell_type": "code",
   "execution_count": 68,
   "metadata": {},
   "outputs": [],
   "source": [
    "import numpy as np"
   ]
  },
  {
   "cell_type": "code",
   "execution_count": 69,
   "metadata": {},
   "outputs": [
    {
     "name": "stdout",
     "output_type": "stream",
     "text": [
      "[(1, 2, 29), (2, 3, 13), (3, 4, 21), (4, 8, 10), (8, 2, 2), (8, 5, 20), (8, 6, 12), (6, 7, 6), (6, 1, 22)]\n"
     ]
    }
   ],
   "source": [
    "#voici un graph simulant un morceau de ville\n",
    "#(node1,node2, distance)                                                                                                                                 \n",
    "G = [(1,2,29), (2,3,13), (3,4,21), (4,8,10), (8,2,2), (8,5,20), (8,6,12), (6,7,6), (6,1,22)]\n",
    "print(G)"
   ]
  },
  {
   "cell_type": "markdown",
   "metadata": {},
   "source": [
    "<img src=\"assets/img/graph_num.png\" width=\"400\">"
   ]
  },
  {
   "cell_type": "markdown",
   "metadata": {},
   "source": [
    "### 1.2 Calcul du parcours le plus efficace pour le drone ###"
   ]
  },
  {
   "cell_type": "markdown",
   "metadata": {},
   "source": [
    "L'idée c'est de trouver un chemin eulerien, cependant notre graphe n'est pas eulerien\n",
    "Nous allons alors utilisé un algo qui transforme un graph non-eulerien en un graph eulerien (sans altéré ses propriétés). Enfin on pourra utiliser un algo qui trouve un chemin eulerien c-a-d un chemin qui passe par toutes les arretes du graphes (simulant les rues de la ville)"
   ]
  },
  {
   "cell_type": "code",
   "execution_count": 70,
   "metadata": {},
   "outputs": [],
   "source": [
    "#ICI on fait l'algo du cycle_eulerien_avec_erreur"
   ]
  },
  {
   "cell_type": "code",
   "execution_count": 86,
   "metadata": {},
   "outputs": [],
   "source": [
    "#fix le graph vers un graph eulerien\n",
    "def odd_vertices(n, edges):\n",
    "    deg = [0] * n\n",
    "    for (a,b,c) in edges:\n",
    "        deg[a] += 1\n",
    "        deg[b] += 1\n",
    "        \n",
    "    return [a for a in range(n) if deg[a] % 2]\n",
    "\n",
    "def is_edges(n, edges, node1, node2):\n",
    "    for (a, b, c) in edges:\n",
    "        if (a == node1 and b == node2) or (a == node2 and b == node1):\n",
    "            return (a,b,c)\n",
    "    return None\n",
    "\n",
    "def list_edges(n, edges, l_vodd):\n",
    "    res = []\n",
    "    for a in l_vodd:\n",
    "        for b in l_vodd:\n",
    "            if (a == b):\n",
    "                continue\n",
    "            tmp = is_edges(n, edges, a, b)\n",
    "            if (tmp and tmp not in res) :\n",
    "                res.append(tmp)               \n",
    "    return res\n",
    "\n",
    "def shortest_edge_idx(l_edges):\n",
    "    if (len(l_edges) == 0):\n",
    "        return None\n",
    "    shortest = l_edges[0][2]\n",
    "    shortest_index = 0\n",
    "    \n",
    "    index = 1\n",
    "    for (a,b,c) in l_edges[1:]:\n",
    "        if (c < shortest):\n",
    "            shortest = c\n",
    "            shortest_index = index\n",
    "        index+=1\n",
    "    return l_edges[shortest_index]\n",
    "\n",
    "def transform_to_eulerian(n, edges):\n",
    "    list_vodd = odd_vertices(n, edges)\n",
    "    l_edges = list_edges(n, edges, list_vodd)\n",
    "    \n",
    "    len_vodd = len(list_vodd)\n",
    "    if (len_vodd == 2 or len_vodd == 0): #case is already eulerian\n",
    "        return edges\n",
    "    #print(list_vodd)\n",
    "    #print(l_edges)\n",
    "    while(len(list_vodd) != 2):\n",
    "        shortest_edge = shortest_edge_idx(l_edges)\n",
    "        #add edge between two\n",
    "        (a,b,c) = shortest_edge\n",
    "        new_edge = (b,a,c)\n",
    "        edges.append(new_edge)\n",
    "        \n",
    "        #delete from vodd\n",
    "        list_vodd.remove(a)\n",
    "        list_vodd.remove(b)\n",
    "        \n",
    "        #delete from list_edges\n",
    "        l_edges.remove(shortest_edge)\n",
    "    return edges\n",
    "#[(2, 1), (1, 6), (6, 7), (7, 6), (6, 8), (8, 4), (4, 3), (3, 2), (2, 8), (8, 5)]\n",
    "#[(2, 1), (1, 6), (6, 7), (7, 6), (6, 8), (8, 4), (4, 3), (3, 2), (2, 8), (8, 5)]"
   ]
  },
  {
   "cell_type": "code",
   "execution_count": 72,
   "metadata": {},
   "outputs": [],
   "source": [
    "# L'algo de transformation en graph eulerien doit donner le graph ci-dessous"
   ]
  },
  {
   "cell_type": "markdown",
   "metadata": {},
   "source": [
    "<img src=\"assets/img/eulerian_graph.png\" width=\"400\">"
   ]
  },
  {
   "cell_type": "code",
   "execution_count": 113,
   "metadata": {},
   "outputs": [],
   "source": [
    "G = [(1,2,29), (2,3,13), (3,4,21), (4,8,10), (8,2,2), (8,5,1), (8,6,12), (6,7,6), (6,1,22)]   \n",
    "G = transform_to_eulerian(len(G), G)\n",
    "G2 = []\n",
    "\n",
    "### on enlève la ponderation\n",
    "for (a,b,c) in G:\n",
    "    G2.append((a,b))"
   ]
  },
  {
   "cell_type": "code",
   "execution_count": 114,
   "metadata": {},
   "outputs": [
    {
     "name": "stdout",
     "output_type": "stream",
     "text": [
      "{1: [2, 7, 6, 6], 2: [1, 3, 8], 3: [2, 4], 4: [3, 8], 8: [4, 2, 5, 6], 5: [8], 6: [8, 7, 1, 1], 7: [6, 1]}\n",
      "[(2, 1), (1, 7), (7, 6), (6, 1), (1, 6), (6, 8), (8, 4), (4, 3), (3, 2), (2, 8), (8, 5)]\n"
     ]
    }
   ],
   "source": [
    "from copy import copy\n",
    "\n",
    "'''\n",
    "    is_connected - Checks if a graph in the form of a dictionary is \n",
    "    connected or not, using Breadth-First Search Algorithm (BFS)\n",
    "'''\n",
    "def is_connected(G):\n",
    "    start_node = list(G)[0]\n",
    "    color = {v: 'white' for v in G}\n",
    "    color[start_node] = 'gray'\n",
    "    S = [start_node]\n",
    "    while len(S) != 0:\n",
    "        u = S.pop()\n",
    "        for v in G[u]:\n",
    "            if color[v] == 'white':\n",
    "                color[v] = 'gray'\n",
    "                S.append(v)\n",
    "            color[u] = 'black'\n",
    "    return list(color.values()).count('black') == len(G)\n",
    "\n",
    "'''\n",
    "    odd_degree_nodes - returns a list of all G odd degrees nodes\n",
    "'''\n",
    "def odd_degree_nodes(G):\n",
    "    odd_degree_nodes = []\n",
    "    for u in G:\n",
    "        if len(G[u]) % 2 != 0:\n",
    "            odd_degree_nodes.append(u)\n",
    "    return odd_degree_nodes\n",
    "\n",
    "'''\n",
    "    from_dict - return a list of tuples links from a graph G in a \n",
    "    dictionary format\n",
    "'''    \n",
    "def from_dict(G):\n",
    "    links = []\n",
    "    for u in G:\n",
    "        for v in G[u]:\n",
    "            links.append((u,v))\n",
    "    return links\n",
    "\n",
    "'''\n",
    "    fleury(G) - return eulerian trail from graph G or a \n",
    "    string 'Not Eulerian Graph' if it's not possible to trail a path\n",
    "'''\n",
    "def fleury(G):\n",
    "    '''\n",
    "        checks if G has eulerian cycle or trail\n",
    "    '''\n",
    "    odn = odd_degree_nodes(G)\n",
    "    #print(odn)\n",
    "    if len(odn) > 2 or len(odn) == 1:\n",
    "        return 'Not Eulerian Graph'\n",
    "    else:\n",
    "        g = copy(G)\n",
    "        trail = []\n",
    "        if len(odn) == 2:\n",
    "            u = odn[0]\n",
    "        else:\n",
    "            u = list(g)[0]\n",
    "        while len(from_dict(g)) > 0:\n",
    "            current_vertex = u\n",
    "            for u in g[current_vertex]:\n",
    "                g[current_vertex].remove(u)\n",
    "                g[u].remove(current_vertex)\n",
    "                bridge = not is_connected(g)\n",
    "                if bridge:\n",
    "                    g[current_vertex].append(u)\n",
    "                    g[u].append(current_vertex)\n",
    "                else:\n",
    "                    break\n",
    "            if bridge:\n",
    "                g[current_vertex].remove(u)\n",
    "                g[u].remove(current_vertex)\n",
    "                g.pop(current_vertex)\n",
    "            trail.append((current_vertex, u))\n",
    "    return trail\n",
    "\n",
    "def to_dict(G):\n",
    "    dict_graph = {}\n",
    "    for (a,b) in G:\n",
    "        dict_graph[a] = []\n",
    "        dict_graph[b] = []\n",
    "    for (a,b) in G:\n",
    "        dict_graph[a].append(b)\n",
    "        dict_graph[b].append(a)\n",
    "    return dict_graph\n",
    "\n",
    "dict_G2 = to_dict(G2)\n",
    "print(dict_G2)\n",
    "print(fleury(dict_G2))"
   ]
  },
  {
   "cell_type": "code",
   "execution_count": 115,
   "metadata": {},
   "outputs": [],
   "source": [
    "# ICI ON AFFICHE le parcours"
   ]
  },
  {
   "cell_type": "markdown",
   "metadata": {},
   "source": [
    "### 1.3 Recuperation des données du drones (simulation d'eneigement) ###"
   ]
  },
  {
   "cell_type": "code",
   "execution_count": 7,
   "metadata": {},
   "outputs": [],
   "source": [
    "#ICI on simule l'eneigement (baill de plustard)"
   ]
  },
  {
   "cell_type": "code",
   "execution_count": null,
   "metadata": {},
   "outputs": [],
   "source": []
  }
 ],
 "metadata": {
  "kernelspec": {
   "display_name": "Python 3",
   "language": "python",
   "name": "python3"
  },
  "language_info": {
   "codemirror_mode": {
    "name": "ipython",
    "version": 3
   },
   "file_extension": ".py",
   "mimetype": "text/x-python",
   "name": "python",
   "nbconvert_exporter": "python",
   "pygments_lexer": "ipython3",
   "version": "3.9.2"
  }
 },
 "nbformat": 4,
 "nbformat_minor": 4
}
