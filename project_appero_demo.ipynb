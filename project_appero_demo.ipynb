{
 "cells": [
  {
   "cell_type": "markdown",
   "metadata": {},
   "source": [
    "# AP(P)3RO PROJECT (model de démo) #\n",
    "\n",
    "\n",
    "#### M. Le Gras, A. Naullet, A. Calixte, P. Beaunieux ####"
   ]
  },
  {
   "cell_type": "markdown",
   "metadata": {},
   "source": [
    "## Partie 1: Cartographie de la ville par le drone ##"
   ]
  },
  {
   "cell_type": "markdown",
   "metadata": {},
   "source": [
    "On simule une ville avec un petit graphe"
   ]
  },
  {
   "cell_type": "code",
   "execution_count": 19,
   "metadata": {},
   "outputs": [],
   "source": [
    "import numpy as np"
   ]
  },
  {
   "cell_type": "code",
   "execution_count": 22,
   "metadata": {},
   "outputs": [
    {
     "name": "stdout",
     "output_type": "stream",
     "text": [
      "[(1, 2, 29), (2, 3, 13), (3, 4, 21), (4, 8, 10), (8, 2, 2), (8, 5, 20), (8, 6, 12), (6, 7, 6), (6, 1, 22)]\n"
     ]
    }
   ],
   "source": [
    "#voici un graph simulant un morceau de ville\n",
    "#(node1,node2, distance)                                                                                                                                 \n",
    "G = [(1,2,29), (2,3,13), (3,4,21), (4,8,10), (8,2,2), (8,5,20), (8,6,12), (6,7,6), (6,1,22)]\n",
    "print(G)"
   ]
  },
  {
   "cell_type": "markdown",
   "metadata": {},
   "source": [
    "<img src=\"assets/img/graph_demo.png\" width=\"400\">"
   ]
  },
  {
   "cell_type": "markdown",
   "metadata": {},
   "source": [
    "### 1.2 Calcul du parcours le plus efficace pour le drone ###"
   ]
  },
  {
   "cell_type": "markdown",
   "metadata": {},
   "source": [
    "L'idée c'est de trouver un chemin eulerien, cependant notre graphe n'est pas eulerien\n",
    "Nous allons alors utilisé un algo qui transforme un graph non-eulerien en un graph eulerien (sans altéré ses propriétés). Enfin on pourra utiliser un algo qui trouve un chemin eulerien c-a-d un chemin qui passe par toutes les arretes du graphes (simulant les rues de la ville)"
   ]
  },
  {
   "cell_type": "code",
   "execution_count": 23,
   "metadata": {},
   "outputs": [],
   "source": [
    "#ICI on fait l'algo du cycle_eulerien_avec_erreur"
   ]
  },
  {
   "cell_type": "code",
   "execution_count": 56,
   "metadata": {},
   "outputs": [],
   "source": [
    "#fix le graph vers un graph eulerien\n",
    "def odd_vertices(n, edges):\n",
    "    deg = [0] * n\n",
    "    for (a,b,c) in edges:\n",
    "        deg[a] += 1\n",
    "        deg[b] += 1\n",
    "        \n",
    "    return [a for a in range(n) if deg[a] % 2]\n",
    "\n",
    "def is_edges(n, edges, node1, node2):\n",
    "    for (a, b, c) in edges:\n",
    "        if (a == node1 and b == node2) or (a == node2 and b == node1):\n",
    "            return (a,b,c)\n",
    "    return None\n",
    "\n",
    "def list_edges(n, edges, l_vodd):\n",
    "    res = []\n",
    "    for a in l_vodd:\n",
    "        for b in l_vodd:\n",
    "            if (a == b):\n",
    "                continue\n",
    "            tmp = is_edges(n, edges, a, b)\n",
    "            if (tmp and tmp not in res) :\n",
    "                res.append(tmp)               \n",
    "    return res\n",
    "\n",
    "def shortest_edge_idx(l_edges):\n",
    "    if (len(l_edges) == 0):\n",
    "        return None\n",
    "    shortest = l_edges[0][2]\n",
    "    shortest_index = 0\n",
    "    \n",
    "    index = 1\n",
    "    for (a,b,c) in l_edges[1:]:\n",
    "        if (c < shortest):\n",
    "            shortest = c\n",
    "            shortest_index = index\n",
    "        index+=1\n",
    "    return l_edges[shortest_index]\n",
    "\n",
    "def transform_to_eulerian(n, edges):\n",
    "    list_vodd = odd_vertices(n, edges)\n",
    "    l_edges = list_edges(n, edges, list_vodd)\n",
    "    \n",
    "    len_vodd = len(list_vodd)\n",
    "    if (len_vodd == 2 or len_vodd == 0): #case is already eulerian\n",
    "        return edges\n",
    "    #print(list_vodd)\n",
    "    #print(l_edges)\n",
    "    while(len(list_vodd) != 2):\n",
    "        shortest_edge = shortest_edge_idx(l_edges)\n",
    "        #add edge between two\n",
    "        (a,b,c) = shortest_edge\n",
    "        new_edge = (b,a,c)\n",
    "        edges.append(new_edge)\n",
    "        \n",
    "        #delete from vodd\n",
    "        list_vodd.remove(a)\n",
    "        list_vodd.remove(b)\n",
    "        \n",
    "        #delete from list_edges\n",
    "        l_edges.remove(shortest_edge)\n",
    "    return edges"
   ]
  },
  {
   "cell_type": "code",
   "execution_count": 67,
   "metadata": {},
   "outputs": [],
   "source": [
    "G = [(1,2,29), (2,3,13), (3,4,21), (4,8,10), (8,2,2), (8,5,20), (8,6,12), (6,7,6), (6,1,22)]                    \n",
    "G = transform_to_eulerian(len(G), G)\n",
    "G2 = []\n",
    "for (a,b,c) in G:\n",
    "    G2.append((a,b))"
   ]
  },
  {
   "cell_type": "code",
   "execution_count": 18,
   "metadata": {},
   "outputs": [],
   "source": [
    "# ICI ON AFFICHE le parcours"
   ]
  },
  {
   "cell_type": "markdown",
   "metadata": {},
   "source": [
    "### 1.3 Recuperation des données du drones (simulation d'eneigement) ###"
   ]
  },
  {
   "cell_type": "code",
   "execution_count": 20,
   "metadata": {},
   "outputs": [],
   "source": [
    "#ICI on simule l'eneigement (baill de plustard)"
   ]
  },
  {
   "cell_type": "code",
   "execution_count": null,
   "metadata": {},
   "outputs": [],
   "source": []
  }
 ],
 "metadata": {
  "kernelspec": {
   "display_name": "Python 3",
   "language": "python",
   "name": "python3"
  },
  "language_info": {
   "codemirror_mode": {
    "name": "ipython",
    "version": 3
   },
   "file_extension": ".py",
   "mimetype": "text/x-python",
   "name": "python",
   "nbconvert_exporter": "python",
   "pygments_lexer": "ipython3",
   "version": "3.9.2"
  }
 },
 "nbformat": 4,
 "nbformat_minor": 4
}
