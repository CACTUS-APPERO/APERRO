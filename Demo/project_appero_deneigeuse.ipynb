{
 "cells": [
  {
   "cell_type": "markdown",
   "metadata": {},
   "source": [
    "# AP(P)3RO PROJECT (model de démo) #\n",
    "\n",
    "\n",
    "#### M. Le Gras, A. Naullet, A. Calixte, P. Beaunieux ####"
   ]
  },
  {
   "cell_type": "markdown",
   "metadata": {},
   "source": [
    "## Partie 1: Trouver un Chemin Eulerien sur un Graph Orienté ##"
   ]
  },
  {
   "cell_type": "markdown",
   "metadata": {},
   "source": [
    "On simule une ville avec un petit graphe orienté. Le fait que le graph soit orienté, va simuler les routes a sens unique et double sens. On partira quand meme du postulat suivant: De tout point A du graph, on peut aller a tout point B du graph. En effet, dans une ville en partant de n'importe où, on peut se rendre a n'importe quel endroit."
   ]
  },
  {
   "cell_type": "code",
   "execution_count": 2,
   "metadata": {},
   "outputs": [],
   "source": [
    "import numpy as np"
   ]
  },
  {
   "cell_type": "code",
   "execution_count": 517,
   "metadata": {},
   "outputs": [
    {
     "name": "stdout",
     "output_type": "stream",
     "text": [
      "[(0, 3, 7), (0, 2, 3), (1, 2, 1), (1, 7, 2), (2, 5, 2), (2, 4, 3), (2, 3, 6), (3, 8, 9), (3, 0, 2), (4, 5, 2), (4, 8, 3), (5, 4, 2), (5, 1, 4), (6, 8, 2), (6, 5, 6), (6, 7, 4), (7, 6, 4), (7, 9, 4), (8, 4, 3), (8, 3, 3), (9, 6, 4)]\n"
     ]
    }
   ],
   "source": [
    "#voici un graph simulant un morceau de ville\n",
    "\n",
    "#(node1,node2, distance) \n",
    "\n",
    "G = [(0,3,7),(0,2,3),\n",
    "    (1,2,1),(1,7,2),\n",
    "    (2,5,2), (2,4,3), (2,3,6),\n",
    "    (3,8,9), (3,0,2),\n",
    "    (4,5,2), (4,8,3),\n",
    "    (5,4,2),(5,1,4),\n",
    "    (6,8,2), (6,5,6), (6,7,4),\n",
    "    (7,6,4), (7,9,4),\n",
    "    (8,4,3), (8,3,3),\n",
    "    (9,6,4)]\n",
    "print(G)"
   ]
  },
  {
   "cell_type": "markdown",
   "metadata": {},
   "source": [
    "<img src=\"../assets/img/oriented_graph.png\" width=\"400\">"
   ]
  },
  {
   "cell_type": "code",
   "execution_count": 456,
   "metadata": {},
   "outputs": [],
   "source": [
    "#path = eulerian.transform_and_find_eulerian_path(G)"
   ]
  },
  {
   "cell_type": "code",
   "execution_count": 546,
   "metadata": {},
   "outputs": [],
   "source": [
    "import sys\n",
    "sys.path.append(\"./scripts\")\n",
    "\n",
    "from eulerian_transform import *"
   ]
  },
  {
   "cell_type": "code",
   "execution_count": 584,
   "metadata": {},
   "outputs": [
    {
     "name": "stdout",
     "output_type": "stream",
     "text": [
      "[*] Compute Eulerian path: 100 %\n",
      "[+] Euleriand Path Found !\n",
      "[+] Adapting path to the Directed Graph\n",
      "[0, 3, 0, 2, 3, 0, 2, 5, 1, 2, 4, 8, 3, 8, 4, 5, 1, 7, 6, 8, 4, 5, 1, 7, 6, 7, 6, 5, 1, 7, 9, 6, 5, 4, 5, 1, 2, 3]\n"
     ]
    }
   ],
   "source": [
    "import networkx as nx\n",
    "import random\n",
    "from copy import copy\n",
    "#print([(i,(\"odd\", \"even\")[len(graph._adj[i]) %2 == 0]) for i in graph._adj])#\n",
    "#print(nx.edge_dfs(graph))\n",
    "def graph_covering(G):\n",
    "    #copie de G pour pas le modfier\n",
    "    cp_G = copy(G)\n",
    "    \n",
    "    #arretes sans le poid\n",
    "    edges = [(a,b) for (a,b,c) in cp_G]\n",
    "    \n",
    "    #Création du graph orienté et du non-orienté\n",
    "    d_graph = nx.DiGraph()\n",
    "    graph = nx.Graph()\n",
    "    for (a,b,c) in G:\n",
    "        d_graph.add_edge(a,b,weight=c)\n",
    "        graph.add_edge(a,b,weight=c)\n",
    "    \n",
    "    #On Eulerianise le graph non-orienté (opération impossible avec celui orienté)\n",
    "    e_graph = nx.eulerize(graph)\n",
    "    #print(\"Added:\",[(a,b) for (a,b,c) in e_graph.edges if (a,b) not in edges])\n",
    "    \n",
    "    #Calcul du chemin Eulerien\n",
    "    e_dict = to_dict([(a,b) for (a,b,c) in e_graph.edges])\n",
    "    e_path  = fleury.fleury(e_dict)\n",
    "    \n",
    "    \n",
    "    #En se basant sur les noeuds du graphs orienté, toutes arrètes inexistantes\n",
    "    #- sera remplacée par le plus court chemin pour rejoindre les 2 points\n",
    "    #- Ainsi, aucun bout de chemin ne passera par une route impossible\n",
    "    path = []\n",
    "    visited = []\n",
    "    print(\"[+] Adapting path to the Directed Graph\")\n",
    "    for (a,b) in e_path:\n",
    "        path.append(a)\n",
    "        # - - Si on ne peut liée 2 points, on fait un détour\n",
    "        if ((a,b) not in edges):\n",
    "            # - - Cas spécial:\n",
    "            # (a,b) n'est pas dans edges mais (b,a) lui y est mais n'a toujours pas été visité\n",
    "            # Si on applique la suite de l'algo, (b,a ne sera jamais visité)\n",
    "            # Notre solution est la suivante:\n",
    "            # Forcer la visite de cette Arrete et ensuite continuer le deroulement de l'algo\n",
    "            # - - \n",
    "            if (b,a) in edges and (b,a) not in visited:\n",
    "                tmp_path = nx.shortest_path(d_graph, a, b)\n",
    "                path += tmp_path[1:]\n",
    "                #- - Ajout aux visited les arretes du détour\n",
    "                add_visited(visited, tmp_path)\n",
    "                \n",
    "                path.append(a)\n",
    "                visited.append((b,a))\n",
    "            \n",
    "            tmp_path = nx.shortest_path(d_graph, a, b)\n",
    "            #- - Ajout aux visited les arretes du détour\n",
    "            add_visited(visited, tmp_path)\n",
    "            path += tmp_path[1:-1]\n",
    "            \n",
    "        visited.append((a,b))\n",
    "    return path\n",
    "  \n",
    "def add_visited(visited, path):\n",
    "    for i in range(len(path) - 1):\n",
    "        n1 = path[i]\n",
    "        n2 = path[i+1]\n",
    "        \n",
    "        if (n1,n2) not in visited:\n",
    "            visited.append((n1,n2))\n",
    "    \n",
    "def get_best_path(G):\n",
    "    res = graph_covering(G)\n",
    "    return res\n",
    "\n",
    "out = get_best_path(G)\n",
    "print(out)\n"
   ]
  },
  {
   "cell_type": "markdown",
   "metadata": {},
   "source": [
    "Voilà le resultat:\n",
    "<img src=\"../assets/img/oriented_path.png\" width=\"400\">\n",
    "\n",
    "En effet on passe plusieurs fois au meme endroit mais l'algo e"
   ]
  },
  {
   "cell_type": "code",
   "execution_count": null,
   "metadata": {},
   "outputs": [],
   "source": []
  },
  {
   "cell_type": "code",
   "execution_count": null,
   "metadata": {},
   "outputs": [],
   "source": []
  }
 ],
 "metadata": {
  "kernelspec": {
   "display_name": "Python 3",
   "language": "python",
   "name": "python3"
  },
  "language_info": {
   "codemirror_mode": {
    "name": "ipython",
    "version": 3
   },
   "file_extension": ".py",
   "mimetype": "text/x-python",
   "name": "python",
   "nbconvert_exporter": "python",
   "pygments_lexer": "ipython3",
   "version": "3.9.2"
  }
 },
 "nbformat": 4,
 "nbformat_minor": 4
}
