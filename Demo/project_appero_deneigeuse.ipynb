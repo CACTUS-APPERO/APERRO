{
 "cells": [
  {
   "cell_type": "markdown",
   "metadata": {},
   "source": [
    "# AP(P)3RO PROJECT (model de démo) #\n",
    "\n",
    "\n",
    "#### M. Le Gras, A. Naullet, A. Calixte, P. Beaunieux ####"
   ]
  },
  {
   "cell_type": "markdown",
   "metadata": {},
   "source": [
    "## Partie 1: Trouver un Chemin Eulerien sur un Graph Orienté ##"
   ]
  },
  {
   "cell_type": "markdown",
   "metadata": {},
   "source": [
    "On simule une ville avec un petit graphe orienté. Le fait que le graph soit orienté, va simuler les routes a sens unique et double sens."
   ]
  },
  {
   "cell_type": "code",
   "execution_count": 2,
   "metadata": {},
   "outputs": [],
   "source": [
    "import numpy as np"
   ]
  },
  {
   "cell_type": "code",
   "execution_count": 17,
   "metadata": {},
   "outputs": [
    {
     "name": "stdout",
     "output_type": "stream",
     "text": [
      "[(1, 2, 29), (2, 3, 13), (3, 4, 21), (4, 8, 10), (8, 2, 2), (8, 5, 20), (8, 6, 12), (6, 7, 6), (6, 1, 22)]\n"
     ]
    }
   ],
   "source": [
    "#voici un graph simulant un morceau de ville\n",
    "\n",
    "#(node1,node2, distance) \n",
    "\n",
    "G = [\n",
    "    (1,2,1),(1,7,2),\n",
    "    (2,5,2), (2,4,3), (2,3,6),u\n",
    "    (3,8,9),\n",
    "    (4,5,2), (4,8,3)\n",
    "    (5,4,2),\n",
    "    (6,8,2),\n",
    "    (7,6,4), (7,9,4),\n",
    "    (8,4,3),\n",
    "    (9,6,4)]\n",
    "print(G)"
   ]
  },
  {
   "cell_type": "markdown",
   "metadata": {},
   "source": [
    "<img src=\"../assets/img/oriented_graph.png\" width=\"400\">"
   ]
  }
 ],
 "metadata": {
  "kernelspec": {
   "display_name": "Python 3",
   "language": "python",
   "name": "python3"
  },
  "language_info": {
   "codemirror_mode": {
    "name": "ipython",
    "version": 3
   },
   "file_extension": ".py",
   "mimetype": "text/x-python",
   "name": "python",
   "nbconvert_exporter": "python",
   "pygments_lexer": "ipython3",
   "version": "3.9.2"
  }
 },
 "nbformat": 4,
 "nbformat_minor": 4
}
