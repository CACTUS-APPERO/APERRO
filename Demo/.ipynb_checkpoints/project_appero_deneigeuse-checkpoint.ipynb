{
 "cells": [
  {
   "cell_type": "markdown",
   "metadata": {},
   "source": [
    "# AP(P)3RO PROJECT (model de démo) #\n",
    "\n",
    "\n",
    "#### M. Le Gras, A. Naullet, A. Calixte, P. Beaunieux ####"
   ]
  },
  {
   "cell_type": "markdown",
   "metadata": {},
   "source": [
    "## Partie 1: Trouver un Chemin Eulerien sur un Graph Orienté ##"
   ]
  },
  {
   "cell_type": "markdown",
   "metadata": {},
   "source": [
    "On simule une ville avec un petit graphe orienté. Le fait que le graph soit orienté, va simuler les routes a sens unique et double sens. On partira quand meme du postulat suivant: De tout point A du graph, on peut aller a tout point B du graph. En effet, dans une ville en partant de n'importe où, on peut se rendre a n'importe quel endroit."
   ]
  },
  {
   "cell_type": "code",
   "execution_count": 2,
   "metadata": {},
   "outputs": [],
   "source": [
    "import numpy as np"
   ]
  },
  {
   "cell_type": "code",
   "execution_count": 517,
   "metadata": {},
   "outputs": [
    {
     "name": "stdout",
     "output_type": "stream",
     "text": [
      "[(0, 3, 7), (0, 2, 3), (1, 2, 1), (1, 7, 2), (2, 5, 2), (2, 4, 3), (2, 3, 6), (3, 8, 9), (3, 0, 2), (4, 5, 2), (4, 8, 3), (5, 4, 2), (5, 1, 4), (6, 8, 2), (6, 5, 6), (6, 7, 4), (7, 6, 4), (7, 9, 4), (8, 4, 3), (8, 3, 3), (9, 6, 4)]\n"
     ]
    }
   ],
   "source": [
    "#voici un graph simulant un morceau de ville\n",
    "\n",
    "#(node1,node2, distance) \n",
    "\n",
    "G = [(0,3,7),(0,2,3),\n",
    "    (1,2,1),(1,7,2),\n",
    "    (2,5,2), (2,4,3), (2,3,6),\n",
    "    (3,8,9), (3,0,2),\n",
    "    (4,5,2), (4,8,3),\n",
    "    (5,4,2),(5,1,4),\n",
    "    (6,8,2), (6,5,6), (6,7,4),\n",
    "    (7,6,4), (7,9,4),\n",
    "    (8,4,3), (8,3,3),\n",
    "    (9,6,4)]\n",
    "print(G)"
   ]
  },
  {
   "cell_type": "markdown",
   "metadata": {},
   "source": [
    "<img src=\"../assets/img/oriented_graph.png\" width=\"400\">"
   ]
  },
  {
   "cell_type": "code",
   "execution_count": 456,
   "metadata": {},
   "outputs": [],
   "source": [
    "#path = eulerian.transform_and_find_eulerian_path(G)"
   ]
  },
  {
   "cell_type": "code",
   "execution_count": 519,
   "metadata": {},
   "outputs": [
    {
     "name": "stdout",
     "output_type": "stream",
     "text": [
      "Added: [(3, 2), (2, 1), (1, 5), (5, 6), (8, 6), (6, 9)]\n",
      "[(0, 2), (2, 4), (4, 8), (8, 3), (3, 8), (8, 6), (6, 9), (9, 7), (7, 6), (6, 5), (5, 4), (4, 2), (2, 5), (5, 1), (1, 7), (7, 1), (1, 2), (2, 3), (3, 0)]\n"
     ]
    }
   ],
   "source": [
    "import networkx as nx\n",
    "import random\n",
    "from copy import copy\n",
    "#print([(i,(\"odd\", \"even\")[len(graph._adj[i]) %2 == 0]) for i in graph._adj])#\n",
    "#print(nx.edge_dfs(graph))\n",
    "def graph_covering(G):\n",
    "    #copie de G pour pas le modfier\n",
    "    cp_G = copy(G)\n",
    "    \n",
    "    #on enlève le poid\n",
    "    edges = [(a,b) for (a,b,c) in cp_G]\n",
    "    \n",
    "    #Création du graph orienté et du non-orienté\n",
    "    d_graph = nx.DiGraph(edges)\n",
    "    graph = nx.Graph(edges)\n",
    "    \n",
    "    #On Eulerianise le graph non-orienté (opération impossible avec celui orienté)\n",
    "    e_graph = nx.eulerize(graph)\n",
    "    print(\"Added:\",[(a,b) for (a,b,c) in e_graph.edges if (a,b) not in edges])\n",
    "    \n",
    "    #Calcul du chemin Eulerien\n",
    "    e_path  = nx.eulerian_path(e_graph)\n",
    "    \n",
    "    print([i for i in e_path])\n",
    "    \n",
    "    #En se basant sur les noeuds du graphs orienté, toutes arrètes inexistantes\n",
    "    #- sera remplacée par le plus court chemin pour rejoindre les 2 points\n",
    "    #- Ainsi, aucun bout de chemin ne passera par une route impossible\n",
    "    path = []\n",
    "    for (a,b) in e_path:\n",
    "        path.append(a)\n",
    "        if ((a,b) not in edges):\n",
    "            tmp_path = nx.shortest_path(d_graph, a, b)\n",
    "            path += tmp_path[1:-1]\n",
    "    return path\n",
    "  \n",
    "    \n",
    "def get_best_path(G):\n",
    "    res = graph_covering(G)\n",
    "    return res\n",
    "\n",
    "out = get_best_path(G)\n",
    "#print(out)\n"
   ]
  },
  {
   "cell_type": "code",
   "execution_count": null,
   "metadata": {},
   "outputs": [],
   "source": []
  },
  {
   "cell_type": "code",
   "execution_count": null,
   "metadata": {},
   "outputs": [],
   "source": []
  }
 ],
 "metadata": {
  "kernelspec": {
   "display_name": "Python 3",
   "language": "python",
   "name": "python3"
  },
  "language_info": {
   "codemirror_mode": {
    "name": "ipython",
    "version": 3
   },
   "file_extension": ".py",
   "mimetype": "text/x-python",
   "name": "python",
   "nbconvert_exporter": "python",
   "pygments_lexer": "ipython3",
   "version": "3.9.2"
  }
 },
 "nbformat": 4,
 "nbformat_minor": 4
}
